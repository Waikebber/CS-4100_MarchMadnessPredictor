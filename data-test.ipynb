{
 "cells": [
  {
   "cell_type": "code",
   "execution_count": 1,
   "metadata": {},
   "outputs": [],
   "source": [
    "from DataLoader import DataLoader"
   ]
  },
  {
   "cell_type": "code",
   "execution_count": 2,
   "metadata": {},
   "outputs": [
    {
     "name": "stderr",
     "output_type": "stream",
     "text": [
      "100%|██████████| 36/36 [00:02<00:00, 16.57it/s]\n"
     ]
    }
   ],
   "source": [
    "loader = DataLoader()"
   ]
  },
  {
   "cell_type": "code",
   "execution_count": 3,
   "metadata": {},
   "outputs": [
    {
     "name": "stdout",
     "output_type": "stream",
     "text": [
      "36 Keys:\n",
      "dict_keys(['Cities', 'Conferences', 'MConferenceTourneyGames', 'MGameCities', 'MMasseyOrdinals', 'MNCAATourneyCompactResults', 'MNCAATourneyDetailedResults', 'MNCAATourneySeedRoundSlots', 'MNCAATourneySeeds', 'MNCAATourneySlots', 'MRegularSeasonCompactResults', 'MRegularSeasonDetailedResults', 'MSeasons', 'MSecondaryTourneyCompactResults', 'MSecondaryTourneyTeams', 'MTeamCoaches', 'MTeamConferences', 'MTeams', 'MTeamSpellings', 'SampleSubmissionStage1', 'SampleSubmissionStage2', 'SeedBenchmarkStage1', 'WConferenceTourneyGames', 'WGameCities', 'WNCAATourneyCompactResults', 'WNCAATourneyDetailedResults', 'WNCAATourneySeeds', 'WNCAATourneySlots', 'WRegularSeasonCompactResults', 'WRegularSeasonDetailedResults', 'WSeasons', 'WSecondaryTourneyCompactResults', 'WSecondaryTourneyTeams', 'WTeamConferences', 'WTeams', 'WTeamSpellings'])\n"
     ]
    }
   ],
   "source": [
    "print(f'{len(loader.keys())} Keys:\\n{loader.keys()}')\n"
   ]
  },
  {
   "cell_type": "code",
   "execution_count": 4,
   "metadata": {},
   "outputs": [
    {
     "name": "stdout",
     "output_type": "stream",
     "text": [
      "Cities: (502, 3)\n",
      "Conferences: (51, 2)\n",
      "MConferenceTourneyGames: (6504, 5)\n",
      "MGameCities: (86235, 6)\n",
      "MMasseyOrdinals: (5526389, 5)\n",
      "MNCAATourneyCompactResults: (2518, 8)\n",
      "MNCAATourneyDetailedResults: (1382, 34)\n",
      "MNCAATourneySeedRoundSlots: (776, 5)\n",
      "MNCAATourneySeeds: (2558, 3)\n",
      "MNCAATourneySlots: (2519, 4)\n",
      "MRegularSeasonCompactResults: (192497, 8)\n",
      "MRegularSeasonDetailedResults: (118449, 34)\n",
      "MSeasons: (41, 6)\n",
      "MSecondaryTourneyCompactResults: (1809, 9)\n",
      "MSecondaryTourneyTeams: (1836, 3)\n",
      "MTeamCoaches: (13533, 5)\n",
      "MTeamConferences: (13388, 3)\n",
      "MTeams: (380, 4)\n",
      "MTeamSpellings: (1182, 2)\n",
      "SampleSubmissionStage1: (507108, 2)\n",
      "SampleSubmissionStage2: (131407, 2)\n",
      "SeedBenchmarkStage1: (507108, 2)\n",
      "WConferenceTourneyGames: (6118, 5)\n",
      "WGameCities: (83011, 6)\n",
      "WNCAATourneyCompactResults: (1650, 8)\n",
      "WNCAATourneyDetailedResults: (894, 34)\n",
      "WNCAATourneySeeds: (1676, 3)\n",
      "WNCAATourneySlots: (1713, 4)\n",
      "WRegularSeasonCompactResults: (136628, 8)\n",
      "WRegularSeasonDetailedResults: (81308, 34)\n",
      "WSeasons: (28, 6)\n",
      "WSecondaryTourneyCompactResults: (828, 9)\n",
      "WSecondaryTourneyTeams: (824, 3)\n",
      "WTeamConferences: (9490, 3)\n",
      "WTeams: (378, 2)\n",
      "WTeamSpellings: (1175, 2)\n"
     ]
    }
   ],
   "source": [
    "for name, df in loader.items():\n",
    "    print(f\"{name}: {df.shape}\")"
   ]
  },
  {
   "cell_type": "code",
   "execution_count": 5,
   "metadata": {},
   "outputs": [],
   "source": [
    "df = loader[\"Cities\"]"
   ]
  },
  {
   "cell_type": "code",
   "execution_count": 6,
   "metadata": {},
   "outputs": [
    {
     "name": "stdout",
     "output_type": "stream",
     "text": [
      "   CityID         City State\n",
      "0    4001      Abilene    TX\n",
      "1    4002        Akron    OH\n",
      "2    4003       Albany    NY\n",
      "3    4004  Albuquerque    NM\n",
      "4    4005    Allentown    PA\n"
     ]
    }
   ],
   "source": [
    "print(df.head())"
   ]
  },
  {
   "cell_type": "code",
   "execution_count": 7,
   "metadata": {},
   "outputs": [],
   "source": [
    "mens, womens, general = loader.split_by_gender()"
   ]
  },
  {
   "cell_type": "code",
   "execution_count": 8,
   "metadata": {},
   "outputs": [
    {
     "name": "stdout",
     "output_type": "stream",
     "text": [
      "17 Keys:\n",
      "dict_keys(['ConferenceTourneyGames', 'GameCities', 'MasseyOrdinals', 'NCAATourneyCompactResults', 'NCAATourneyDetailedResults', 'NCAATourneySeedRoundSlots', 'NCAATourneySeeds', 'NCAATourneySlots', 'RegularSeasonCompactResults', 'RegularSeasonDetailedResults', 'Seasons', 'SecondaryTourneyCompactResults', 'SecondaryTourneyTeams', 'TeamCoaches', 'TeamConferences', 'Teams', 'TeamSpellings'])\n"
     ]
    }
   ],
   "source": [
    "print(f'{len(mens.keys())} Keys:\\n{mens.keys()}')"
   ]
  },
  {
   "cell_type": "code",
   "execution_count": 9,
   "metadata": {},
   "outputs": [
    {
     "name": "stdout",
     "output_type": "stream",
     "text": [
      "14 Keys:\n",
      "dict_keys(['ConferenceTourneyGames', 'GameCities', 'NCAATourneyCompactResults', 'NCAATourneyDetailedResults', 'NCAATourneySeeds', 'NCAATourneySlots', 'RegularSeasonCompactResults', 'RegularSeasonDetailedResults', 'Seasons', 'SecondaryTourneyCompactResults', 'SecondaryTourneyTeams', 'TeamConferences', 'Teams', 'TeamSpellings'])\n"
     ]
    }
   ],
   "source": [
    "print(f'{len(womens.keys())} Keys:\\n{womens.keys()}')"
   ]
  },
  {
   "cell_type": "code",
   "execution_count": 10,
   "metadata": {},
   "outputs": [
    {
     "name": "stdout",
     "output_type": "stream",
     "text": [
      "5 Keys:\n",
      "dict_keys(['Cities', 'Conferences', 'SampleSubmissionStage1', 'SampleSubmissionStage2', 'SeedBenchmarkStage1'])\n"
     ]
    }
   ],
   "source": [
    "print(f'{len(general.keys())} Keys:\\n{general.keys()}')"
   ]
  }
 ],
 "metadata": {
  "kernelspec": {
   "display_name": "marchmadness",
   "language": "python",
   "name": "python3"
  },
  "language_info": {
   "codemirror_mode": {
    "name": "ipython",
    "version": 3
   },
   "file_extension": ".py",
   "mimetype": "text/x-python",
   "name": "python",
   "nbconvert_exporter": "python",
   "pygments_lexer": "ipython3",
   "version": "3.10.16"
  }
 },
 "nbformat": 4,
 "nbformat_minor": 2
}
